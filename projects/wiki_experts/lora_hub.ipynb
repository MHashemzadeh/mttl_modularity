{
 "cells": [
  {
   "cell_type": "code",
   "execution_count": 10,
   "metadata": {},
   "outputs": [],
   "source": [
    "import sys\n",
    "import os\n",
    "from functools import partial\n",
    "import pandas as pd\n",
    "import nevergrad as ng\n",
    "from string import Template\n",
    "from datasets import Dataset\n",
    "sys.path.append(\"/home/v-oostapenko/dev/mttl\")\n",
    "sys.path.append(\"/home/v-oostapenko/dev/mttl/projects/wiki_experts/\")\n",
    "from lora_hub.algorithm import lorahub_learning, get_score\n",
    "from mttl.datamodule.platypus_module import (\n",
    "    PlatypusModule,\n",
    "    PlatypusConfig,\n",
    "    PlatypusQAModule,\n",
    ")\n",
    "from src.graph.module_graph import ModuleGraph"
   ]
  },
  {
   "cell_type": "code",
   "execution_count": 11,
   "metadata": {},
   "outputs": [],
   "source": [
    "\n",
    "def get_examples_for_learning():\n",
    "    \"\"\"\n",
    "    Get a few examples to learn to compose given LoRA modules\n",
    "    \"\"\"\n",
    "    return [\n",
    "        {\"input\":\n",
    "            \"Infer the date from context.\\n\\nQ: Jane is celebrating the last day of Jan 2012. What is the date tomorrow in MM/DD/YYYY?\\nOptions:\\n(A) 02/02/2012\\n(B) 02/15/2012\\n(C) 01/25/2012\\n(D) 04/22/2012\\n(E) 02/01/2012\\n(F) 02/11/2012\\nA:\", \"output\": \"(E)\"}\n",
    "    ]"
   ]
  },
  {
   "cell_type": "code",
   "execution_count": 12,
   "metadata": {},
   "outputs": [],
   "source": [
    "def load_dataset(example_inputs, example_outputs, tokenizer):\n",
    "    # add empty string if example_outputs is None\n",
    "    if example_outputs is None:\n",
    "        example_outputs = [\"\"] * len(example_inputs)\n",
    "    df = [\n",
    "        {\"input\": example_inputs[i], \"output\": example_outputs[i]}\n",
    "        for i in range(len(example_inputs))\n",
    "    ]\n",
    "    dataset = Dataset.from_pandas(pd.DataFrame(df))\n",
    "    preprocess_func_with_tokenizer = partial(preprocess_function, tokenizer=tokenizer)\n",
    "    processed_datasets = dataset.map(\n",
    "        preprocess_func_with_tokenizer,\n",
    "        batched=True,\n",
    "        num_proc=1,\n",
    "        desc=\"Running tokenizer on dataset\",\n",
    "    )\n",
    "    return processed_datasets\n",
    "\n",
    "def preprocess_function(examples, tokenizer):\n",
    "    \"\"\"\n",
    "    standard preprocess function for dataset\n",
    "    \"\"\"\n",
    "    inputs = examples[\"input\"]\n",
    "    targets = examples[\"output\"]\n",
    "    model_inputs = tokenizer(\n",
    "        inputs,\n",
    "        max_length=2048,\n",
    "        padding=True,\n",
    "        truncation=True,\n",
    "        return_tensors=\"pt\",\n",
    "    )\n",
    "    labels = tokenizer(\n",
    "        targets,\n",
    "        max_length=2048,\n",
    "        padding=True,\n",
    "        truncation=True,\n",
    "        return_tensors=\"pt\",\n",
    "    )\n",
    "    labels = labels[\"input_ids\"]\n",
    "    labels[labels == tokenizer.pad_token_id] = -100\n",
    "    model_inputs[\"labels\"] = labels\n",
    "    return model_inputs"
   ]
  },
  {
   "cell_type": "code",
   "execution_count": 40,
   "metadata": {},
   "outputs": [
    {
     "name": "stderr",
     "output_type": "stream",
     "text": [
      "Padding side is right\n",
      "Setting pad_token_id to 0, given that pad_token_id was not detected.\n",
      "FlashAttention not found, skipping replacing attn with flash attn.\n"
     ]
    }
   ],
   "source": [
    "\n",
    "from src.config import ExpertConfig\n",
    "from huggingface_hub import login\n",
    "from src.expert_model import MultiExpertModel\n",
    "\n",
    "# if \"HF_TOKEN\" in os.environ:\n",
    "#     login(token=os.environ[\"HF_TOKEN\"])\n",
    "\n",
    "config = ExpertConfig()\n",
    "config.model = \"EleutherAI/gpt-neo-125m\"\n",
    "config.load_in_8bit = True\n",
    "config.model_family = \"gpt\"\n",
    "config.data_dir = os.environ[\"MMLU_DATA_DIR\"]\n",
    "config.predict_batch_size = 2\n",
    "config.max_input_length = 4096\n",
    "config.max_output_length = 5\n",
    "config.modify_layers= \"q_proj|v_proj|k_proj\"\n",
    "config.trainable_param_names=\".*lora_[ab].*\"\n",
    "config.model_modifier= \"lora\"\n",
    "config.modify_modules = \".*\"\n",
    "\n",
    "config_dm = PlatypusConfig(\n",
    "    model=config.model,\n",
    "    train_batch_size=config.train_batch_size,\n",
    "    predict_batch_size=config.predict_batch_size,\n",
    "    max_input_length=config.max_input_length,\n",
    "    max_output_length=config.max_output_length,\n",
    "    validation_portion=config.validation_portion,\n",
    "    model_family=config.model_family,\n",
    "    train_on_inputs=False,\n",
    "    train_on_reverse=\"platypus\"\n",
    ")\n",
    "dm = PlatypusModule(config_dm)\n",
    "model_class = MultiExpertModel\n",
    "module = model_class(**vars(config), tokenizer=dm.tokenizer)"
   ]
  },
  {
   "cell_type": "code",
   "execution_count": 49,
   "metadata": {},
   "outputs": [],
   "source": [
    "from string import Template\n",
    "s = Template(\"security_studies -> linear(sordonia/expert_llama2_13b_security_studies:$weght1);\\\n",
    "            abstract_algebra -> linear(sordonia/expert_llama2_13b_security_studies:$weght2);\\\n",
    "            \")"
   ]
  },
  {
   "cell_type": "code",
   "execution_count": 52,
   "metadata": {},
   "outputs": [],
   "source": [
    "s = s.safe_substitute(weght1=0.5, weght2=0.5)\n",
    "graph = ModuleGraph.from_string(s)"
   ]
  },
  {
   "cell_type": "code",
   "execution_count": 45,
   "metadata": {},
   "outputs": [],
   "source": [
    "from string import Template\n",
    "s = Template(\"security_studies -> linear(sordonia/expert_llama2_13b_security_studies:$weght1);\\\n",
    "            abstract_algebra -> linear(sordonia/expert_llama2_13b_security_studies:$weght2);\\\n",
    "            \")\n",
    "graph = ModuleGraph.from_string(s)\n",
    "cache = graph.create_modules()"
   ]
  },
  {
   "cell_type": "code",
   "execution_count": 11,
   "metadata": {},
   "outputs": [
    {
     "name": "stdout",
     "output_type": "stream",
     "text": [
      "security_studies -> linear(sordonia/expert_llama2_13b_security_studies:0.0);            abstract_algebra -> linear(sordonia/expert_llama2_13b_security_studies:0.0);            \n",
      "security_studies -> linear(sordonia/expert_llama2_13b_security_studies:0.5);            abstract_algebra -> linear(sordonia/expert_llama2_13b_security_studies:0.0);            \n",
      "[0.5 0. ]\n"
     ]
    }
   ],
   "source": [
    "s = Template(\"security_studies -> linear(sordonia/expert_llama2_13b_security_studies:$weght1);\\\n",
    "            abstract_algebra -> linear(sordonia/expert_llama2_13b_security_studies:$weght2);\\\n",
    "            \")\n",
    "def get_score(weights, template: Template):\n",
    "    print(template.safe_substitute(weght1=weights[0], weght2=weights[1]))\n",
    "    return sum((weights - 0.5) ** 2)\n",
    "\n",
    "_get_score = partial(get_score, template=s)\n",
    "\n",
    "instrum=ng.p.Array(\n",
    "                init=[0]* 2,\n",
    "                upper=[1.5] * 2,\n",
    "                lower=[-1.5] * 2,\n",
    "            )\n",
    "\n",
    "optimizer = ng.optimizers.NGOpt(parametrization=instrum, budget=2)\n",
    "recommendation = optimizer.minimize(_get_score)\n",
    "print(recommendation.value)\n",
    "# >>> [0.49999998 0.50000004]"
   ]
  },
  {
   "cell_type": "code",
   "execution_count": 47,
   "metadata": {},
   "outputs": [
    {
     "data": {
      "text/plain": [
       "dict_keys(['security_studies', 'abstract_algebra'])"
      ]
     },
     "execution_count": 47,
     "metadata": {},
     "output_type": "execute_result"
    }
   ],
   "source": [
    "\n",
    "instrum = ng.p.Array(\n",
    "    init=[0] * number_of_loras,\n",
    "    upper=[1.5] * number_of_loras,\n",
    "    lower=[-1.5] * number_of_loras,\n",
    ")\n",
    "optimizer = ng.optimizers.NGOpt(parametrization=instrum, budget=max_inference_step)\n",
    "print(\"> Begin to perform gradient-free optimization ...\")\n",
    "recommendation = optimizer.minimize(get_score_partial, verbosity=1)"
   ]
  },
  {
   "cell_type": "code",
   "execution_count": 32,
   "metadata": {},
   "outputs": [
    {
     "name": "stderr",
     "output_type": "stream",
     "text": [
      "Running tokenizer on dataset: 100%|██████████| 1/1 [00:00<00:00, 207.84 examples/s]\n"
     ]
    }
   ],
   "source": [
    "\n",
    "# construct input list and output list\n",
    "example_inputs, examples_outputs = [], []\n",
    "for example in get_examples_for_learning():\n",
    "    example_inputs.append(example[\"input\"])\n",
    "    examples_outputs.append(example[\"output\"])\n",
    "\n",
    "dataset = load_dataset(example_inputs, examples_outputs, dm.tokenizer) "
   ]
  },
  {
   "cell_type": "code",
   "execution_count": null,
   "metadata": {},
   "outputs": [],
   "source": [
    "\n",
    "def get_score(weights, model, cache, example_dataset, batch_size, get_loss, get_regular):\n",
    "    # the composed lora state dict\n",
    "    final_state_dict = {}\n",
    "    # module list is the list\n",
    "    lora_module_list = list(cache.keys())\n",
    "    # all keys are the same\n",
    "    keys = cache[lora_module_list[0]].keys()\n",
    "    for i, peft_model_id in enumerate(lora_module_list):\n",
    "        lora_state_dict = cache[peft_model_id]\n",
    "        if i == 0:\n",
    "            for key in keys:\n",
    "                final_state_dict[key] = weights[i] * lora_state_dict[key]\n",
    "        else:\n",
    "            for key in keys:\n",
    "                final_state_dict[key] = (\n",
    "                    final_state_dict[key] + weights[i] * lora_state_dict[key]\n",
    "                )\n",
    "    # reload the model with the new adapter config\n",
    "    set_peft_model_state_dict(model, final_state_dict)\n",
    "        \n",
    "    # minimize the metric\n",
    "    loss = get_loss(example_dataset, model, batch_size)\n",
    "    # L1 regularization term\n",
    "    metric_val = loss + get_regular(weights)\n",
    "    \n",
    "    return metric_val"
   ]
  },
  {
   "cell_type": "code",
   "execution_count": null,
   "metadata": {},
   "outputs": [],
   "source": [
    "\n",
    "get_score_partial = partial(get_score, \n",
    "                            model=model, \n",
    "                            cache=cache,\n",
    "                            example_dataset=dataset,\n",
    "                            batch_size=batch_size,\n",
    "                            get_loss=get_loss, \n",
    "                            get_regular=get_regular)\n",
    "# set up the limit of the weights\n",
    "instrum = ng.p.Array(\n",
    "    init=[0] * number_of_loras,\n",
    "    upper=[1.5] * number_of_loras,\n",
    "    lower=[-1.5] * number_of_loras,\n",
    ")\n",
    "optimizer = ng.optimizers.NGOpt(parametrization=instrum, budget=max_inference_step)\n",
    "print(\"> Begin to perform gradient-free optimization ...\")\n",
    "recommendation = optimizer.minimize(get_score_partial, verbosity=1)\n",
    "final_lora = get_final_weights(recommendation.value, lora_module_list, cache)\n",
    "# set the final weights\n",
    "set_peft_model_state_dict(model, final_lora)\n",
    "model = model.merge_and_unload()"
   ]
  }
 ],
 "metadata": {
  "kernelspec": {
   "display_name": "comp_3.9_pl2",
   "language": "python",
   "name": "python3"
  },
  "language_info": {
   "codemirror_mode": {
    "name": "ipython",
    "version": 3
   },
   "file_extension": ".py",
   "mimetype": "text/x-python",
   "name": "python",
   "nbconvert_exporter": "python",
   "pygments_lexer": "ipython3",
   "version": "3.9.17"
  },
  "orig_nbformat": 4
 },
 "nbformat": 4,
 "nbformat_minor": 2
}
